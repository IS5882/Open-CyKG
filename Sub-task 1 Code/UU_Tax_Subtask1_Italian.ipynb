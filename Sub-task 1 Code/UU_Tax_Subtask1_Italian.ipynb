{
  "metadata": {
    "kernelspec": {
      "language": "python",
      "display_name": "Python 3",
      "name": "python3"
    },
    "language_info": {
      "name": "python",
      "version": "3.7.12",
      "mimetype": "text/x-python",
      "codemirror_mode": {
        "name": "ipython",
        "version": 3
      },
      "pygments_lexer": "ipython3",
      "nbconvert_exporter": "python",
      "file_extension": ".py"
    },
    "colab": {
      "name": "UU_Tax_Subtask1_Italian.ipynb",
      "provenance": [],
      "include_colab_link": true
    }
  },
  "nbformat_minor": 0,
  "nbformat": 4,
  "cells": [
    {
      "cell_type": "markdown",
      "metadata": {
        "id": "view-in-github",
        "colab_type": "text"
      },
      "source": [
        "<a href=\"https://colab.research.google.com/github/IS5882/Open-CyKG/blob/main/Sub-task%201%20Code/UU_Tax_Subtask1_Italian.ipynb\" target=\"_parent\"><img src=\"https://colab.research.google.com/assets/colab-badge.svg\" alt=\"Open In Colab\"/></a>"
      ]
    },
    {
      "cell_type": "markdown",
      "source": [
        "# 0] Imports and reading all data in DFs"
      ],
      "metadata": {
        "id": "sVl0pxkwPpMr"
      }
    },
    {
      "cell_type": "code",
      "source": [
        "!pip install openpyxl\n",
        "\n",
        "import re\n",
        "import nltk\n",
        "## for bag-of-words\n",
        "from sklearn import feature_extraction, model_selection, naive_bayes, pipeline, manifold, preprocessing\n",
        "import os\n",
        "import gc\n",
        "import gensim\n",
        "import base64\n",
        "import requests\n",
        "import pandas as pd\n",
        "import os\n",
        "import nltk\n",
        "\n",
        "from sklearn.model_selection import train_test_split\n",
        "import numpy as np\n",
        "import pandas as pd \n",
        "from tqdm import tqdm\n",
        "from sklearn.linear_model import LogisticRegression\n",
        "## for word embedding\n",
        "import gensim\n",
        "import gensim.downloader as gensim_api\n",
        "## for deep learning\n",
        "from tensorflow.keras import models, layers, preprocessing as kprocessing\n",
        "from tensorflow.keras import backend as K\n",
        "## for bert language model\n",
        "!pip install transformers\n",
        "import transformers\n",
        "import nltk\n",
        "nltk.download('wordnet')"
      ],
      "metadata": {
        "id": "JsxpRU4ASwLO",
        "execution": {
          "iopub.status.busy": "2022-02-16T18:49:40.057871Z",
          "iopub.execute_input": "2022-02-16T18:49:40.058345Z",
          "iopub.status.idle": "2022-02-16T18:50:05.416696Z",
          "shell.execute_reply.started": "2022-02-16T18:49:40.058270Z",
          "shell.execute_reply": "2022-02-16T18:50:05.415885Z"
        },
        "trusted": true
      },
      "execution_count": null,
      "outputs": []
    },
    {
      "cell_type": "code",
      "source": [
        "# install simpletransformers\n",
        "!pip install simpletransformers\n",
        "\n",
        "# check installed version\n",
        "!pip freeze | grep simpletransformers\n",
        "# simpletransformers==0.28.2"
      ],
      "metadata": {
        "id": "svum1ZL4dlHn",
        "execution": {
          "iopub.status.busy": "2022-02-16T18:50:05.418803Z",
          "iopub.execute_input": "2022-02-16T18:50:05.419134Z",
          "iopub.status.idle": "2022-02-16T18:50:25.959119Z",
          "shell.execute_reply.started": "2022-02-16T18:50:05.419097Z",
          "shell.execute_reply": "2022-02-16T18:50:25.958295Z"
        },
        "trusted": true
      },
      "execution_count": null,
      "outputs": []
    },
    {
      "cell_type": "markdown",
      "source": [
        "#  Italian"
      ],
      "metadata": {
        "id": "P2lTmdSmBN69"
      }
    },
    {
      "cell_type": "code",
      "source": [
        "df_backtrans=pd.read_excel(r'../input/backtrack-it/IT_BT.xlsx',index_col=0)\n",
        "df_backtrans"
      ],
      "metadata": {
        "execution": {
          "iopub.status.busy": "2022-02-16T18:50:25.962388Z",
          "iopub.execute_input": "2022-02-16T18:50:25.962608Z",
          "iopub.status.idle": "2022-02-16T18:50:27.667447Z",
          "shell.execute_reply.started": "2022-02-16T18:50:25.962582Z",
          "shell.execute_reply": "2022-02-16T18:50:27.666756Z"
        },
        "trusted": true,
        "id": "1lZVpaaI8DPs"
      },
      "execution_count": null,
      "outputs": []
    },
    {
      "cell_type": "code",
      "source": [
        "df_backtrans.index = df_backtrans.index.astype(int)\n",
        "df_backtrans[['Labels']] = df_backtrans[['Labels']].astype(int)"
      ],
      "metadata": {
        "execution": {
          "iopub.status.busy": "2022-02-16T18:50:27.669550Z",
          "iopub.execute_input": "2022-02-16T18:50:27.670361Z",
          "iopub.status.idle": "2022-02-16T18:50:27.678903Z",
          "shell.execute_reply.started": "2022-02-16T18:50:27.670321Z",
          "shell.execute_reply": "2022-02-16T18:50:27.678148Z"
        },
        "trusted": true,
        "id": "r3Ltn0Db8DPs"
      },
      "execution_count": null,
      "outputs": []
    },
    {
      "cell_type": "code",
      "source": [
        "df_backtrans"
      ],
      "metadata": {
        "execution": {
          "iopub.status.busy": "2022-02-16T18:50:27.680026Z",
          "iopub.execute_input": "2022-02-16T18:50:27.680683Z",
          "iopub.status.idle": "2022-02-16T18:50:27.697539Z",
          "shell.execute_reply.started": "2022-02-16T18:50:27.680644Z",
          "shell.execute_reply": "2022-02-16T18:50:27.696906Z"
        },
        "trusted": true,
        "id": "_kubhrQD8DPs"
      },
      "execution_count": null,
      "outputs": []
    },
    {
      "cell_type": "code",
      "source": [
        "#df_backtrans=df_backtrans.set_index(['ID'])"
      ],
      "metadata": {
        "id": "byReASPiBNEl",
        "execution": {
          "iopub.status.busy": "2022-02-16T18:50:27.698779Z",
          "iopub.execute_input": "2022-02-16T18:50:27.699247Z",
          "iopub.status.idle": "2022-02-16T18:50:27.702365Z",
          "shell.execute_reply.started": "2022-02-16T18:50:27.699211Z",
          "shell.execute_reply": "2022-02-16T18:50:27.701597Z"
        },
        "trusted": true
      },
      "execution_count": null,
      "outputs": []
    },
    {
      "cell_type": "code",
      "source": [
        "df_backtrans=df_backtrans.sort_values(['ID'])"
      ],
      "metadata": {
        "execution": {
          "iopub.status.busy": "2022-02-16T18:50:27.703964Z",
          "iopub.execute_input": "2022-02-16T18:50:27.704459Z",
          "iopub.status.idle": "2022-02-16T18:50:27.712479Z",
          "shell.execute_reply.started": "2022-02-16T18:50:27.704422Z",
          "shell.execute_reply": "2022-02-16T18:50:27.711761Z"
        },
        "trusted": true,
        "id": "1p8Mb3PD8DPt"
      },
      "execution_count": null,
      "outputs": []
    },
    {
      "cell_type": "code",
      "source": [
        "df_train=df_backtrans"
      ],
      "metadata": {
        "execution": {
          "iopub.status.busy": "2022-02-16T18:50:27.713991Z",
          "iopub.execute_input": "2022-02-16T18:50:27.714589Z",
          "iopub.status.idle": "2022-02-16T18:50:27.718230Z",
          "shell.execute_reply.started": "2022-02-16T18:50:27.714551Z",
          "shell.execute_reply": "2022-02-16T18:50:27.717248Z"
        },
        "trusted": true,
        "id": "VoL1jQlR8DPu"
      },
      "execution_count": null,
      "outputs": []
    },
    {
      "cell_type": "code",
      "source": [
        "df_train"
      ],
      "metadata": {
        "execution": {
          "iopub.status.busy": "2022-02-16T18:50:27.719881Z",
          "iopub.execute_input": "2022-02-16T18:50:27.720460Z",
          "iopub.status.idle": "2022-02-16T18:50:27.736891Z",
          "shell.execute_reply.started": "2022-02-16T18:50:27.720422Z",
          "shell.execute_reply": "2022-02-16T18:50:27.736097Z"
        },
        "trusted": true,
        "id": "BaoHBICf8DPu"
      },
      "execution_count": null,
      "outputs": []
    },
    {
      "cell_type": "markdown",
      "source": [
        "# 1] Load pretrained model"
      ],
      "metadata": {
        "id": "BDN9JE9wCZyN"
      }
    },
    {
      "cell_type": "code",
      "source": [
        "from simpletransformers.classification import ClassificationModel\n",
        "\n",
        "# define hyperparameter\n",
        "train_args ={\"reprocess_input_data\": True,\n",
        "             \"overwrite_output_dir\": True,\n",
        "             \"fp16\":False,\n",
        "             \"num_train_epochs\": 4}\n",
        "\n",
        "# Create a ClassificationModel\n",
        "model = ClassificationModel(\n",
        "    \"electra\", \"dbmdz/electra-base-italian-xxl-cased-discriminator\",\n",
        "    args=train_args\n",
        ")"
      ],
      "metadata": {
        "id": "4_bA4E83Cc-1",
        "execution": {
          "iopub.status.busy": "2022-02-16T18:50:27.738976Z",
          "iopub.execute_input": "2022-02-16T18:50:27.741050Z",
          "iopub.status.idle": "2022-02-16T18:50:55.433814Z",
          "shell.execute_reply.started": "2022-02-16T18:50:27.741013Z",
          "shell.execute_reply": "2022-02-16T18:50:55.433038Z"
        },
        "trusted": true
      },
      "execution_count": null,
      "outputs": []
    },
    {
      "cell_type": "markdown",
      "source": [
        "# 2] Train model Stage 1"
      ],
      "metadata": {
        "id": "1RCAtN7HGN7G"
      }
    },
    {
      "cell_type": "code",
      "source": [
        "df_nlp_auf=pd.read_excel(r'../input/nlpaugit/train_aug_subtask1_it.xlsx',index_col=0)\n",
        "df_nlp_auf"
      ],
      "metadata": {
        "execution": {
          "iopub.status.busy": "2022-02-16T18:50:55.435273Z",
          "iopub.execute_input": "2022-02-16T18:50:55.435512Z",
          "iopub.status.idle": "2022-02-16T18:50:56.267472Z",
          "shell.execute_reply.started": "2022-02-16T18:50:55.435478Z",
          "shell.execute_reply": "2022-02-16T18:50:56.266798Z"
        },
        "trusted": true,
        "id": "sqq-1A9Q8DPw"
      },
      "execution_count": null,
      "outputs": []
    },
    {
      "cell_type": "markdown",
      "source": [
        ""
      ],
      "metadata": {
        "id": "otFyc3ZO8DPw"
      }
    },
    {
      "cell_type": "code",
      "source": [
        "model.train_model(df_nlp_auf, learning_rate=3e-5)"
      ],
      "metadata": {
        "execution": {
          "iopub.status.busy": "2022-02-16T18:50:56.268629Z",
          "iopub.execute_input": "2022-02-16T18:50:56.269027Z",
          "iopub.status.idle": "2022-02-16T19:03:18.041674Z",
          "shell.execute_reply.started": "2022-02-16T18:50:56.268988Z",
          "shell.execute_reply": "2022-02-16T19:03:18.040892Z"
        },
        "trusted": true,
        "id": "KnXunPPW8DPw"
      },
      "execution_count": null,
      "outputs": []
    },
    {
      "cell_type": "markdown",
      "source": [
        "# Read Test data and Test stage 1 "
      ],
      "metadata": {
        "id": "WiJOX8Ek8DPw"
      }
    },
    {
      "cell_type": "code",
      "source": [
        "df_test = pd.read_csv('https://raw.githubusercontent.com/shammur/SemEval2022Task3/main/data/test//official_test_set_with_labels/subtask-1/It-Subtask1-labels.tsv', sep='\\t')\n",
        "\n",
        "df_test=df_test.set_index('ID')\n",
        "del df_test['Construction']\n",
        "\n",
        "df_test"
      ],
      "metadata": {
        "execution": {
          "iopub.status.busy": "2022-02-16T19:06:40.440604Z",
          "iopub.execute_input": "2022-02-16T19:06:40.440873Z",
          "iopub.status.idle": "2022-02-16T19:06:41.066606Z",
          "shell.execute_reply.started": "2022-02-16T19:06:40.440843Z",
          "shell.execute_reply": "2022-02-16T19:06:41.065816Z"
        },
        "trusted": true,
        "id": "AYIZGl6V8DPw"
      },
      "execution_count": null,
      "outputs": []
    },
    {
      "cell_type": "code",
      "source": [
        "from sklearn.metrics import f1_score, accuracy_score, recall_score, precision_score\n",
        "\n",
        "result1, model_outputs1, wrong_predictions1 = model.eval_model(df_test, f1=f1_score, r=recall_score, p=precision_score)\n",
        "\n",
        "result1"
      ],
      "metadata": {
        "execution": {
          "iopub.status.busy": "2022-02-16T19:06:41.068522Z",
          "iopub.execute_input": "2022-02-16T19:06:41.068772Z",
          "iopub.status.idle": "2022-02-16T19:07:49.171609Z",
          "shell.execute_reply.started": "2022-02-16T19:06:41.068736Z",
          "shell.execute_reply": "2022-02-16T19:07:49.170822Z"
        },
        "trusted": true,
        "id": "Ffu52f4e8DPx"
      },
      "execution_count": null,
      "outputs": []
    },
    {
      "cell_type": "code",
      "source": [
        "from sklearn.metrics import confusion_matrix, precision_recall_fscore_support\n",
        "\n",
        "y_dev_pred = [int(el[1] > el[0]) for el in model_outputs1]\n",
        "\n",
        "\n",
        "precision_recall_fscore_support(df_test['Labels'],y_dev_pred , average='macro')"
      ],
      "metadata": {
        "execution": {
          "iopub.status.busy": "2022-02-16T19:07:49.173343Z",
          "iopub.execute_input": "2022-02-16T19:07:49.173613Z",
          "iopub.status.idle": "2022-02-16T19:07:49.212029Z",
          "shell.execute_reply.started": "2022-02-16T19:07:49.173578Z",
          "shell.execute_reply": "2022-02-16T19:07:49.211237Z"
        },
        "trusted": true,
        "id": "pJsm6f6v8DPx"
      },
      "execution_count": null,
      "outputs": []
    },
    {
      "cell_type": "markdown",
      "source": [
        "# Read BT"
      ],
      "metadata": {
        "id": "ZumOPEBO8DPx"
      }
    },
    {
      "cell_type": "markdown",
      "source": [
        "## italian"
      ],
      "metadata": {
        "id": "PuiGHhgv8DPx"
      }
    },
    {
      "cell_type": "code",
      "source": [
        "df_it_train = df_train[[\"Sentence\",\"Labels\"]]\n",
        "df_it_train"
      ],
      "metadata": {
        "execution": {
          "iopub.status.busy": "2022-02-16T19:07:49.213348Z",
          "iopub.execute_input": "2022-02-16T19:07:49.213600Z",
          "iopub.status.idle": "2022-02-16T19:07:49.226579Z",
          "shell.execute_reply.started": "2022-02-16T19:07:49.213565Z",
          "shell.execute_reply": "2022-02-16T19:07:49.225890Z"
        },
        "trusted": true,
        "id": "-wLzvYZd8DPy"
      },
      "execution_count": null,
      "outputs": []
    },
    {
      "cell_type": "markdown",
      "source": [
        "## english"
      ],
      "metadata": {
        "id": "dZoY1BSZ8DPy"
      }
    },
    {
      "cell_type": "code",
      "source": [
        "df_en_train = df_train[[\"EN-IT\",\"Labels\"]]\n",
        "df_en_train"
      ],
      "metadata": {
        "execution": {
          "iopub.status.busy": "2022-02-16T19:07:49.228927Z",
          "iopub.execute_input": "2022-02-16T19:07:49.229360Z",
          "iopub.status.idle": "2022-02-16T19:07:49.242624Z",
          "shell.execute_reply.started": "2022-02-16T19:07:49.229323Z",
          "shell.execute_reply": "2022-02-16T19:07:49.242013Z"
        },
        "trusted": true,
        "id": "7qEqkaFi8DPy"
      },
      "execution_count": null,
      "outputs": []
    },
    {
      "cell_type": "code",
      "source": [
        "df_en_train=df_en_train.rename(columns={\"EN-IT\": \"Sentence\"})\n",
        "df_en_train"
      ],
      "metadata": {
        "execution": {
          "iopub.status.busy": "2022-02-16T19:07:49.243814Z",
          "iopub.execute_input": "2022-02-16T19:07:49.244219Z",
          "iopub.status.idle": "2022-02-16T19:07:49.256260Z",
          "shell.execute_reply.started": "2022-02-16T19:07:49.244185Z",
          "shell.execute_reply": "2022-02-16T19:07:49.255628Z"
        },
        "trusted": true,
        "id": "nhwTMY4b8DPy"
      },
      "execution_count": null,
      "outputs": []
    },
    {
      "cell_type": "markdown",
      "source": [
        "## French"
      ],
      "metadata": {
        "id": "tkGJ92wD8DPy"
      }
    },
    {
      "cell_type": "code",
      "source": [
        "df_fr_train = df_train[[\"FR-IT\",\"Labels\"]]\n",
        "df_fr_train"
      ],
      "metadata": {
        "execution": {
          "iopub.status.busy": "2022-02-16T19:07:49.257347Z",
          "iopub.execute_input": "2022-02-16T19:07:49.258004Z",
          "iopub.status.idle": "2022-02-16T19:07:49.269377Z",
          "shell.execute_reply.started": "2022-02-16T19:07:49.257967Z",
          "shell.execute_reply": "2022-02-16T19:07:49.268623Z"
        },
        "trusted": true,
        "id": "evwGTrjW8DPz"
      },
      "execution_count": null,
      "outputs": []
    },
    {
      "cell_type": "code",
      "source": [
        "df_fr_train=df_fr_train.rename(columns={\"FR-IT\": \"Sentence\"})\n",
        "df_fr_train"
      ],
      "metadata": {
        "execution": {
          "iopub.status.busy": "2022-02-16T19:07:49.270550Z",
          "iopub.execute_input": "2022-02-16T19:07:49.271374Z",
          "iopub.status.idle": "2022-02-16T19:07:49.284341Z",
          "shell.execute_reply.started": "2022-02-16T19:07:49.271339Z",
          "shell.execute_reply": "2022-02-16T19:07:49.283712Z"
        },
        "trusted": true,
        "id": "QVLfMwit8DPz"
      },
      "execution_count": null,
      "outputs": []
    },
    {
      "cell_type": "markdown",
      "source": [
        "## Concat and remove duplicates"
      ],
      "metadata": {
        "id": "0BLaprxk8DPz"
      }
    },
    {
      "cell_type": "code",
      "source": [
        "df_all_train_bt=pd.concat([df_en_train,df_it_train,df_fr_train])\n",
        "df_all_train_bt"
      ],
      "metadata": {
        "execution": {
          "iopub.status.busy": "2022-02-16T19:07:49.285330Z",
          "iopub.execute_input": "2022-02-16T19:07:49.285895Z",
          "iopub.status.idle": "2022-02-16T19:07:49.299756Z",
          "shell.execute_reply.started": "2022-02-16T19:07:49.285859Z",
          "shell.execute_reply": "2022-02-16T19:07:49.299153Z"
        },
        "trusted": true,
        "id": "Ye8Cou2q8DPz"
      },
      "execution_count": null,
      "outputs": []
    },
    {
      "cell_type": "code",
      "source": [
        "len(set(df_all_train_bt['Sentence']))"
      ],
      "metadata": {
        "execution": {
          "iopub.status.busy": "2022-02-16T19:07:49.300813Z",
          "iopub.execute_input": "2022-02-16T19:07:49.301507Z",
          "iopub.status.idle": "2022-02-16T19:07:49.311389Z",
          "shell.execute_reply.started": "2022-02-16T19:07:49.301471Z",
          "shell.execute_reply": "2022-02-16T19:07:49.310595Z"
        },
        "trusted": true,
        "id": "DUWPNwgU8DPz"
      },
      "execution_count": null,
      "outputs": []
    },
    {
      "cell_type": "code",
      "source": [
        "df_all_train_bt=df_all_train_bt.drop_duplicates(subset='Sentence')"
      ],
      "metadata": {
        "execution": {
          "iopub.status.busy": "2022-02-16T19:07:49.312691Z",
          "iopub.execute_input": "2022-02-16T19:07:49.313400Z",
          "iopub.status.idle": "2022-02-16T19:07:49.327469Z",
          "shell.execute_reply.started": "2022-02-16T19:07:49.313359Z",
          "shell.execute_reply": "2022-02-16T19:07:49.326811Z"
        },
        "trusted": true,
        "id": "zwU49eve8DP0"
      },
      "execution_count": null,
      "outputs": []
    },
    {
      "cell_type": "code",
      "source": [
        "df_all_train_bt[\"no_punctuation\"] = df_all_train_bt['Sentence'].str.replace('[^\\w\\s]','')\n",
        "df_all_train_bt"
      ],
      "metadata": {
        "execution": {
          "iopub.status.busy": "2022-02-16T19:07:49.328538Z",
          "iopub.execute_input": "2022-02-16T19:07:49.329337Z",
          "iopub.status.idle": "2022-02-16T19:07:49.381004Z",
          "shell.execute_reply.started": "2022-02-16T19:07:49.329300Z",
          "shell.execute_reply": "2022-02-16T19:07:49.380325Z"
        },
        "trusted": true,
        "id": "rTbOh3ys8DP0"
      },
      "execution_count": null,
      "outputs": []
    },
    {
      "cell_type": "code",
      "source": [
        "df_all_train_bt=df_all_train_bt.drop_duplicates(subset='no_punctuation')\n",
        "df_all_train_bt.sort_values('ID')"
      ],
      "metadata": {
        "execution": {
          "iopub.status.busy": "2022-02-16T19:07:49.382146Z",
          "iopub.execute_input": "2022-02-16T19:07:49.382819Z",
          "iopub.status.idle": "2022-02-16T19:07:49.405205Z",
          "shell.execute_reply.started": "2022-02-16T19:07:49.382783Z",
          "shell.execute_reply": "2022-02-16T19:07:49.404569Z"
        },
        "trusted": true,
        "id": "vIRzYgwQ8DP0"
      },
      "execution_count": null,
      "outputs": []
    },
    {
      "cell_type": "code",
      "source": [
        "del df_all_train_bt['no_punctuation']"
      ],
      "metadata": {
        "execution": {
          "iopub.status.busy": "2022-02-16T19:07:49.408133Z",
          "iopub.execute_input": "2022-02-16T19:07:49.408362Z",
          "iopub.status.idle": "2022-02-16T19:07:49.412080Z",
          "shell.execute_reply.started": "2022-02-16T19:07:49.408331Z",
          "shell.execute_reply": "2022-02-16T19:07:49.411258Z"
        },
        "trusted": true,
        "id": "M-Tau_9P8DP0"
      },
      "execution_count": null,
      "outputs": []
    },
    {
      "cell_type": "code",
      "source": [
        "df_all_train_bt"
      ],
      "metadata": {
        "execution": {
          "iopub.status.busy": "2022-02-16T19:07:49.413474Z",
          "iopub.execute_input": "2022-02-16T19:07:49.413947Z",
          "iopub.status.idle": "2022-02-16T19:07:49.426336Z",
          "shell.execute_reply.started": "2022-02-16T19:07:49.413900Z",
          "shell.execute_reply": "2022-02-16T19:07:49.425496Z"
        },
        "trusted": true,
        "id": "-nguLbDE8DP1"
      },
      "execution_count": null,
      "outputs": []
    },
    {
      "cell_type": "markdown",
      "source": [
        "# Train now stage 2"
      ],
      "metadata": {
        "id": "Fq31emyk8DP1"
      }
    },
    {
      "cell_type": "code",
      "source": [
        "# Train the model\n",
        "model.train_model(df_all_train_bt)"
      ],
      "metadata": {
        "id": "riP8t2OTGRHA",
        "execution": {
          "iopub.status.busy": "2022-02-16T19:07:49.427975Z",
          "iopub.execute_input": "2022-02-16T19:07:49.428295Z"
        },
        "trusted": true
      },
      "execution_count": null,
      "outputs": []
    },
    {
      "cell_type": "markdown",
      "source": [
        "# Test Stage 2 Pablo"
      ],
      "metadata": {
        "id": "SmwJ8vbQ8DP1"
      }
    },
    {
      "cell_type": "code",
      "source": [
        "df_it_test_pablo"
      ],
      "metadata": {
        "trusted": true,
        "id": "VIreIWbS8DP1"
      },
      "execution_count": null,
      "outputs": []
    },
    {
      "cell_type": "code",
      "source": [
        "result2, model_outputs2, wrong_predictions2 = model.eval_model(df_test, f1=f1_score, r=recall_score, p=precision_score)\n",
        "\n",
        "result2"
      ],
      "metadata": {
        "trusted": true,
        "id": "nuc0Zuk28DP1"
      },
      "execution_count": null,
      "outputs": []
    },
    {
      "cell_type": "code",
      "source": [
        "y_dev_pred = [int(el[1] > el[0]) for el in model_outputs2]\n",
        "\n",
        "\n",
        "precision_recall_fscore_support(df_test['Labels'],y_dev_pred , average='macro')"
      ],
      "metadata": {
        "trusted": true,
        "id": "QRNpueIi8DP2"
      },
      "execution_count": null,
      "outputs": []
    },
    {
      "cell_type": "markdown",
      "source": [
        "# Save"
      ],
      "metadata": {
        "id": "cJ-8qffy8DP2"
      }
    },
    {
      "cell_type": "code",
      "source": [
        "y_dev_pred = [int(el[1] > el[0]) for el in model_outputs]\n",
        "df_test['Predicted Labels']=y_dev_pred"
      ],
      "metadata": {
        "trusted": true,
        "id": "g4eSDcFg8DP2"
      },
      "execution_count": null,
      "outputs": []
    },
    {
      "cell_type": "code",
      "source": [
        "#convert to TSV, i.e CSV with seperator= tab\n",
        "results_tsv=df_test.to_csv('answer_with_sent_it_20_jan.tsv', sep=\"\\t\")"
      ],
      "metadata": {
        "trusted": true,
        "id": "Yi1RR8r68DP2"
      },
      "execution_count": null,
      "outputs": []
    },
    {
      "cell_type": "code",
      "source": [
        "del df_test['Sentence']\n"
      ],
      "metadata": {
        "trusted": true,
        "id": "ZQVDLCzB8DP2"
      },
      "execution_count": null,
      "outputs": []
    },
    {
      "cell_type": "code",
      "source": [
        "#convert to TSV, i.e CSV with seperator= tab\n",
        "results_tsv=df_test.to_csv('answer_it_20_jan.tsv', sep=\"\\t\")"
      ],
      "metadata": {
        "trusted": true,
        "id": "_m-2UH2I8DP2"
      },
      "execution_count": null,
      "outputs": []
    }
  ]
}