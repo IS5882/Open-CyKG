{
  "nbformat": 4,
  "nbformat_minor": 0,
  "metadata": {
    "accelerator": "GPU",
    "colab": {
      "name": "Github  Open Cy-KG: NER using Bidirectional LSTM - CRF .ipynb ",
      "provenance": [],
      "collapsed_sections": [],
      "toc_visible": true
    },
    "kernelspec": {
      "display_name": "Python 3",
      "language": "python",
      "name": "python3"
    },
    "language_info": {
      "codemirror_mode": {
        "name": "ipython",
        "version": 3
      },
      "file_extension": ".py",
      "mimetype": "text/x-python",
      "name": "python",
      "nbconvert_exporter": "python",
      "pygments_lexer": "ipython3",
      "version": "3.6.5"
    }
  },
  "cells": [
    {
      "cell_type": "markdown",
      "metadata": {
        "id": "vuRM0wqfPh2z"
      },
      "source": [
        "#### Importing Libraries"
      ]
    },
    {
      "cell_type": "code",
      "metadata": {
        "colab": {
          "base_uri": "https://localhost:8080/"
        },
        "id": "CzOeBBG5Pt4A",
        "outputId": "1c1fe1f1-5ea5-4b82-ec1c-ee8a98847315"
      },
      "source": [
        "import tensorflow as tf\n",
        "\n",
        "print(tf.__version__)\n",
        "!pip install -U -q PyDrive\n",
        "from pydrive.auth import GoogleAuth\n",
        "from pydrive.drive import GoogleDrive\n",
        "from google.colab import auth\n",
        "from oauth2client.client import GoogleCredentials\n",
        "\n",
        "from pydrive.auth import GoogleAuth\n",
        "from pydrive.drive import GoogleDrive\n",
        "from google.colab import auth\n",
        "from oauth2client.client import GoogleCredentials\n",
        "\n",
        "auth.authenticate_user()\n",
        "gauth = GoogleAuth()\n",
        "gauth.credentials = GoogleCredentials.get_application_default()\n",
        "drive = GoogleDrive(gauth)\n",
        "\n",
        "!pip install -U -q PyDrive\n",
        "from pydrive.auth import GoogleAuth\n",
        "from pydrive.drive import GoogleDrive\n",
        "from google.colab import auth\n",
        "from oauth2client.client import GoogleCredentials\n",
        "# running the Stanford POS Tagger from NLTK\n",
        "import nltk\n",
        "from nltk import word_tokenize\n",
        "from nltk import StanfordTagger\n",
        "import nltk\n",
        "import pandas as pd\n",
        "nltk.download(\"popular\")\n",
        "\n",
        "from pydrive.auth import GoogleAuth\n",
        "from pydrive.drive import GoogleDrive\n",
        "from google.colab import auth\n",
        "from oauth2client.client import GoogleCredentials\n",
        "\n",
        "auth.authenticate_user()\n",
        "gauth = GoogleAuth()\n",
        "gauth.credentials = GoogleCredentials.get_application_default()\n",
        "drive = GoogleDrive(gauth)\n",
        "\n",
        "from google.colab import drive\n",
        "drive.mount('/content/gdrive')\n",
        "\n",
        "!pip install tensorflow==2.2.0\n",
        "import tensorflow as tf\n",
        "\n",
        "print(tf.__version__)\n",
        "!pip install keras==2.2.4\n",
        "import keras\n",
        "keras.__version__\n",
        "#from tensorflow import keras as k\n",
        "#import tensorflow as tf\n",
        "!pip install git+https://www.github.com/keras-team/keras-contrib.git\n",
        "from keras_contrib.layers import CRF\n",
        "\n",
        "from subprocess import check_output"
      ],
      "execution_count": null,
      "outputs": [
        {
          "output_type": "stream",
          "text": [
            "2.2.0\n"
          ],
          "name": "stdout"
        }
      ]
    },
    {
      "cell_type": "code",
      "metadata": {
        "id": "VCKttxprQuHI"
      },
      "source": [
        "# This Python 3 environment comes with many helpful analytics libraries installed\n",
        "# It is defined by the kaggle/python docker image: https://github.com/kaggle/docker-python\n",
        "# For example, here's several helpful packages to load in \n",
        "\n",
        "import numpy as np # linear algebra\n",
        "import pandas as pd # data processing, CSV file I/O (e.g. pd.read_csv)\n",
        "from math import nan\n",
        "from keras.callbacks import ModelCheckpoint\n",
        "\n",
        "!pip install git+https://www.github.com/keras-team/keras-contrib.git\n",
        "from keras_contrib.layers import CRF\n",
        "from subprocess import check_output\n",
        "from keras.models import Model, Input\n",
        "from keras.layers import LSTM, Embedding, Dense, TimeDistributed, Dropout, Bidirectional, GRU\n",
        "import keras as k\n",
        "\n",
        "\n",
        "import pandas as pd\n",
        "import numpy as np\n",
        "\n",
        "from keras.preprocessing.sequence import pad_sequences\n",
        "from keras.utils import to_categorical\n",
        "from keras.layers import LSTM, Dense, TimeDistributed, Embedding, Bidirectional\n",
        "from keras.models import Model, Input\n",
        "from keras_contrib.layers import CRF\n",
        "from keras.callbacks import ModelCheckpoint\n",
        "\n",
        "import warnings\n",
        "warnings.filterwarnings(\"ignore\")\n",
        "\n",
        "from sklearn.model_selection import train_test_split\n",
        "import matplotlib.pyplot as plt\n",
        "%matplotlib inline\n",
        "!pip install sklearn-crfsuite\n",
        "!pip install seqeval\n",
        "\n",
        "from sklearn_crfsuite.metrics import flat_classification_report\n",
        "from sklearn.metrics import f1_score\n",
        "from seqeval.metrics import precision_score, recall_score, f1_score, classification_report\n",
        "from keras.preprocessing.text import text_to_word_sequence\n",
        "import pickle\n",
        "!pip install tiny-tokenizer flair\n",
        "!pip install flair"
      ],
      "execution_count": null,
      "outputs": []
    },
    {
      "cell_type": "markdown",
      "metadata": {
        "id": "Jwd1_hqmKwoi"
      },
      "source": [
        "##Dataset file"
      ]
    },
    {
      "cell_type": "code",
      "metadata": {
        "id": "Eg4XR3aHQnqo"
      },
      "source": [
        "#dframe = dataset\n",
        "from sklearn.model_selection import StratifiedKFold, KFold\n",
        "\n",
        "cvscores = []\n",
        "cvR=[]\n",
        "cvF=[]\n",
        "cvP=[]\n",
        "i=0\n",
        "kfold = StratifiedKFold(n_splits=5, shuffle=True)\n",
        "words = list(dframe['words'].unique()) \n",
        "tags = list(dframe['tag'].unique()) \n",
        "target = dframe.loc[:,'tag']\n",
        "\n",
        "\n",
        "# This is a class te get sentence. The each sentence will be list of tuples with its tag and pos.\n",
        "class sentence(object):\n",
        "    def __init__(self, df):\n",
        "        self.n_sent = 1\n",
        "        self.df = df\n",
        "        self.empty = False\n",
        "        agg = lambda s : [(w, p, t) for w, p, t in zip(s['words'].values.tolist(),\n",
        "                                                       s['POS'].values.tolist(),\n",
        "                                                       s['tag'].values.tolist())] \n",
        "        self.grouped = self.df.groupby(\"sentence_idx\").apply(agg) \n",
        "        self.sentences = [s for s in self.grouped]\n",
        "        \n",
        "    def get_text(self):\n",
        "        try:\n",
        "            s = self.grouped[self.n_sent]\n",
        "            self.n_sent +=1\n",
        "            return s\n",
        "        except:\n",
        "            return None\n",
        "getter = sentence(dframe) \n",
        "sentences = [\" \".join([str(s[0]) for s in sent]) for sent in getter.sentences]\n",
        "\n",
        "sent = getter.get_text()\n",
        "\n",
        "sentences = getter.sentences"
      ],
      "execution_count": null,
      "outputs": []
    },
    {
      "cell_type": "markdown",
      "metadata": {
        "id": "dWC8wIGnPh24"
      },
      "source": [
        "#### Defining the parameters for LSTM network"
      ]
    },
    {
      "cell_type": "code",
      "metadata": {
        "id": "eRQJJSoyamU4"
      },
      "source": [
        "# Number of data points passed in each iteration\n",
        "batch_size = 50\n",
        "# Passes through entire dataset\n",
        "epochs = 30\n",
        "# Maximum length of review\n",
        "max_len = 75 \n",
        "# Dimension of embedding vector\n",
        "embedding = 40 \n",
        "words = list(dframe['words'].unique())\n",
        "tags = list(dframe['tag'].unique()) \n",
        "word_to_index = {w : i + 2 for i, w in enumerate(words)}\n",
        "word_to_index[\"UNK\"] = 1\n",
        "word_to_index[\"PAD\"] = 0\n",
        "\n",
        "# Dictionary lable:index pair label is key and value is index.\n",
        "tag_to_index = {t : i + 1 for i, t in enumerate(tags)}\n",
        "tag_to_index[\"PAD\"] = 0\n",
        "idx2word = {i: w for w, i in word_to_index.items()}\n",
        "idx2tag = {i: w for w, i in tag_to_index.items()}\n",
        "# Converting each sentence into list of index from list of tokens\n",
        "X = [[word_to_index[w[0]] for w in s] for s in sentences]\n",
        "# Padding each sequence to have same length  of each word\n",
        "X = pad_sequences(maxlen = max_len, sequences = X, padding = \"post\", value = word_to_index[\"PAD\"])\n",
        "y = [[tag_to_index[w[2]] for w in s] for s in sentences]\n",
        "y = pad_sequences(maxlen = max_len, sequences = y, padding = \"post\", value = tag_to_index[\"PAD\"])\n",
        "num_tag = dframe['tag'].nunique()\n",
        "y = [to_categorical(i, num_classes = num_tag + 1) for i in y]"
      ],
      "execution_count": null,
      "outputs": []
    },
    {
      "cell_type": "code",
      "metadata": {
        "id": "bmj_9AzCa23d"
      },
      "source": [
        "X_train, X_test, y_train, y_test = train_test_split(X, y, test_size = 0.2)"
      ],
      "execution_count": null,
      "outputs": []
    },
    {
      "cell_type": "markdown",
      "metadata": {
        "id": "YT3YhR5VPh26"
      },
      "source": [
        "#### Bidirectional LSTM-CRF Network"
      ]
    },
    {
      "cell_type": "code",
      "metadata": {
        "id": "s5TWQgDKobZw",
        "colab": {
          "base_uri": "https://localhost:8080/",
          "height": 34
        },
        "outputId": "37c98321-bbd0-4c7a-9387-df3bcf0b568c"
      },
      "source": [
        "import keras\n",
        "keras.__version__"
      ],
      "execution_count": null,
      "outputs": [
        {
          "output_type": "execute_result",
          "data": {
            "application/vnd.google.colaboratory.intrinsic+json": {
              "type": "string"
            },
            "text/plain": [
              "'2.2.4'"
            ]
          },
          "metadata": {
            "tags": []
          },
          "execution_count": 39
        }
      ]
    },
    {
      "cell_type": "code",
      "metadata": {
        "id": "6WRJfQ5ca4vD"
      },
      "source": [
        "num_tags = dframe['tag'].nunique() \n",
        "# Model architecture\n",
        "from keras.layers.core import Dense,Dropout,Activation,Flatten,Lambda\n",
        "input = Input(shape = (max_len,))\n",
        "model = Embedding(input_dim = len(words) + 2, output_dim = embedding, input_length = max_len, mask_zero = True)(input)\n",
        "model = Bidirectional(GRU(units = 50, return_sequences=True, recurrent_dropout=0.1))(model)\n",
        "model = TimeDistributed(Dense(50, activation=\"relu\"))(model)\n",
        "#crf = Lambda(lambda x:CRF(num_tags+1))  # CRF layer\n",
        "crf=CRF(num_tags+1)\n",
        "out = crf(model)  \n",
        "\n",
        "model = Model(input, out)\n",
        "model.compile(optimizer=\"rmsprop\", loss=crf.loss_function, metrics=[crf.accuracy])\n",
        "model.summary()\n",
        "\n",
        "checkpointer = ModelCheckpoint(filepath = 'model.h5',\n",
        "                       verbose = 0,\n",
        "                       mode = 'auto',\n",
        "                       save_best_only = True,\n",
        "                       monitor='val_loss')\n",
        "history = model.fit(X_train, np.array(y_train), batch_size=batch_size, epochs=epochs,\n",
        "                    validation_split=0.1, callbacks=[checkpointer])\n",
        "\n",
        "\n",
        "history.history.keys()"
      ],
      "execution_count": null,
      "outputs": []
    },
    {
      "cell_type": "markdown",
      "metadata": {
        "id": "THZDffwmPh28"
      },
      "source": [
        "Visualization"
      ]
    },
    {
      "cell_type": "code",
      "metadata": {
        "id": "QElZwYqqbSFV",
        "colab": {
          "base_uri": "https://localhost:8080/",
          "height": 516
        },
        "outputId": "94de3d66-6be7-413b-a8a2-c605003a2457"
      },
      "source": [
        "acc = history.history['crf_viterbi_accuracy']\n",
        "val_acc = history.history['val_crf_viterbi_accuracy']\n",
        "loss = history.history['loss']\n",
        "val_loss = history.history['val_loss']\n",
        "plt.figure(figsize = (8, 8))\n",
        "epochs = range(1, len(acc) + 1)\n",
        "plt.plot(epochs, acc, 'bo', label='Training acc')\n",
        "plt.plot(epochs, val_acc, 'b', label='Validation acc')\n",
        "plt.title('Training and validation accuracy')\n",
        "plt.legend()"
      ],
      "execution_count": null,
      "outputs": [
        {
          "output_type": "execute_result",
          "data": {
            "text/plain": [
              "<matplotlib.legend.Legend at 0x7f2744162390>"
            ]
          },
          "metadata": {
            "tags": []
          },
          "execution_count": 45
        },
        {
          "output_type": "display_data",
          "data": {
            "image/png": "[encoded data removed]",
            "text/plain": [
              "<Figure size 576x576 with 1 Axes>"
            ]
          },
          "metadata": {
            "tags": [],
            "needs_background": "light"
          }
        }
      ]
    },
    {
      "cell_type": "code",
      "metadata": {
        "id": "sASoBK0_bYgo",
        "colab": {
          "base_uri": "https://localhost:8080/",
          "height": 498
        },
        "outputId": "ad92036b-5624-4fc2-eedc-f318884c65ca"
      },
      "source": [
        "plt.figure(figsize = (8, 8))\n",
        "plt.plot(epochs, loss, 'bo', label='Training loss')\n",
        "plt.plot(epochs, val_loss, 'b', label='Validation loss')\n",
        "plt.title('Training and validation loss')\n",
        "plt.legend()\n",
        "plt.show()"
      ],
      "execution_count": null,
      "outputs": [
        {
          "output_type": "display_data",
          "data": {
            "image/png": "[encoded data removed]",
            "text/plain": [
              "<Figure size 576x576 with 1 Axes>"
            ]
          },
          "metadata": {
            "tags": [],
            "needs_background": "light"
          }
        }
      ]
    },
    {
      "cell_type": "markdown",
      "metadata": {
        "id": "q5pcok99Ph29"
      },
      "source": [
        "#### Evaluating the model on test set"
      ]
    },
    {
      "cell_type": "code",
      "metadata": {
        "id": "tNtfnN3kdiDr"
      },
      "source": [
        "# Evaluation\n",
        "y_pred = model.predict(X_test)\n",
        "y_pred = np.argmax(y_pred, axis=-1)\n",
        "y_test_true = np.argmax(y_test, -1)\n",
        "# Convert the index to tag\n",
        "y_pred = [[idx2tag[i] for i in row] for row in y_pred]\n",
        "y_test_true = [[idx2tag[i] for i in row] for row in y_test_true] \n",
        "\n",
        "report = flat_classification_report(y_pred=y_pred, y_true=y_test_true)\n",
        "\n",
        "# At every execution model picks some random test sample from test set.\n",
        "i = np.random.randint(0,X_test.shape[0]) # choose a random number between 0 and len(X_te)b\n",
        "p = model.predict(np.array([X_test[i]]))\n",
        "p = np.argmax(p, axis=-1)\n",
        "true = np.argmax(y_test[i], -1)\n",
        "\n",
        "with open('word_to_index.pickle', 'wb') as f:\n",
        "    pickle.dump(word_to_index, f)\n",
        "\n",
        "with open('tag_to_index.pickle', 'wb') as f:\n",
        "    pickle.dump(tag_to_index, f)"
      ],
      "execution_count": null,
      "outputs": []
    },
    {
      "cell_type": "markdown",
      "metadata": {
        "id": "OrEaUmlEj3FW"
      },
      "source": [
        "validation "
      ]
    },
    {
      "cell_type": "code",
      "metadata": {
        "id": "zkvqZjp3-1e9"
      },
      "source": [
        "from sklearn.model_selection import StratifiedKFold, KFold\n",
        "cvscores = []\n",
        "cvR=[]\n",
        "cvF=[]\n",
        "cvP=[]\n",
        "i=0\n",
        "kfold = StratifiedKFold(n_splits=5, shuffle=True)\n",
        "words = list(dframe['words'].unique()) \n",
        "tags = list(dframe['tag'].unique()) \n",
        "target = dframe.loc[:,'tag']\n",
        "epochs=10\n",
        "noSents=max(dframe['sentence_idx'])-2 \n",
        "a=np.array([0 for i in range(noSents)])\n",
        "\n",
        "for trainIndex, testIndex in kfold.split(a,a):\n",
        "    XTrain=np.array([X[i] for i in list(trainIndex)])\n",
        "    yTrain=np.array([y[i] for i in list(trainIndex)])\n",
        "    XTest=np.array([X[i] for i in list(testIndex)])\n",
        "    yTest=np.array([y[i] for i in list(testIndex)])\n",
        "\n",
        "    input = Input(shape = (max_len,))\n",
        "    model = Embedding(input_dim = len(words) + 2, output_dim = embedding, input_length = max_len, mask_zero = True)(input)\n",
        "    model = Bidirectional(LSTM(units = 50, return_sequences=True, recurrent_dropout=0.1))(model)\n",
        "    model = TimeDistributed(Dense(50, activation=\"relu\"))(model)\n",
        "    crf=CRF(num_tags+1)  \n",
        "    out = crf(model)  \n",
        "    model = Model(input, out)\n",
        "    model.compile(optimizer=\"adam\", loss=crf.loss_function, metrics=[crf.accuracy])\n",
        "\n",
        "    model.summary()\n",
        "    checkpointer = ModelCheckpoint(filepath = 'model.h5',\n",
        "                       verbose = 0,\n",
        "                       mode = 'auto',\n",
        "                       save_best_only = True,\n",
        "                       monitor='val_loss')\n",
        "    \n",
        "    history = model.fit(X, np.array(y), batch_size=batch_size, epochs=epochs,\n",
        "                    validation_split=0.1, callbacks=[checkpointer])\n",
        "    history.history.keys()\n",
        "    y_pred = model.predict(XTest)\n",
        "    y_pred = np.argmax(y_pred, axis=-1)\n",
        "    y_test_true = np.argmax(yTest, -1)\n",
        "    y_pred = [[idx2tag[i] for i in row] for row in y_pred]\n",
        "    y_test_true = [[idx2tag[i] for i in row] for row in y_test_true] \n",
        "    r=recall_score(y_test_true, y_pred)\n",
        "    cvR.append(r)\n",
        "    p=precision_score(y_test_true, y_pred)\n",
        "    cvP.append(p)\n",
        "    f=f1_score(y_test_true, y_pred)\n",
        "    cvF.append(f)\n",
        "    i+=1\n"
      ],
      "execution_count": null,
      "outputs": []
    }
  ]
}